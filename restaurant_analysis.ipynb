{
 "cells": [
  {
   "cell_type": "markdown",
   "id": "ee4301ec-679e-4bf4-8f95-278992989a84",
   "metadata": {},
   "source": [
    "# Kitchen Dreams: An Examination of the Tri-State Area Cuisine in New York Using Census and Yelp Data. "
   ]
  },
  {
   "cell_type": "markdown",
   "id": "16fe7a23-5ea9-4ba9-9b3c-d3fa2444e75f",
   "metadata": {},
   "source": [
    "![Rooftop Restaurant NYC](https://www.therooftopguide.com/rooftop-news/Bilder/rooftop-restaurant-nyc-230-1.jpg)"
   ]
  },
  {
   "cell_type": "markdown",
   "id": "67654fee-ec9f-4922-b41c-f71b2abdf8cb",
   "metadata": {},
   "source": [
    "## Introduction\n",
    "\n",
    "    This project explores the thriving culinary and eating scene in the Tri-State area of New York. It's about learning how the diverse range of cultures and economic circumstances in the area affects where and what we consume. We are going to learn the narratives behind the restaurants in the area by examining demographic data and Yelp ratings. Consider it an exploration of how the local food scene is shaped by the people and their backgrounds as you go across the areas of New York and New Jersey.\n",
    "\n",
    "### Research Questions\n",
    "\n",
    "1. How does the location within the tri-state area impact a restaurant's Yelp rating, particularly for specific cuisines?\n",
    "2. Is there a correlation between a neighborhood's economic status and the types of restaurants found there?\n",
    "3. Do demographic factors like ethnic composition influence the success of various restaurant types?\n",
    "4. What are the optimal locations for opening new restaurants based on current trends?\n",
    "5. How does the pricing of different cuisines relate to their ratings and popularity?\n",
    "\n",
    "- **Yelp API:** To gather data on restaurant ratings, cuisine types, pricing, and customer reviews from the New York Tri-State area. [Yelp API Documentation](https://docs.developer.yelp.com/docs/fusion-intro)\n",
    "  \n",
    "- Restaurants will be of different cuisine categories, must have mixed ratings on Yelp, and a '$$' price tag.\n",
    "  \n",
    "- **Census.gov (CSV):** To obtain demographic and economic data for the same region, enabling a comprehensive analysis of how these factors relate to food preferences and restaurant success. [Census Data for New York Tri-State Area](https://www.census.gov/quickfacts/fact/table/bergencountynewjersey,richmondcountynewyork,bronxcountynewyork,queenscountynewyork,kingscountynewyork,newyorkcountynewyork/PST045222)\n",
    "\n",
    "## Expected Results\n",
    "\n",
    "- Information on how restaurant ratings and demographic composition relate to one another.\n",
    "- Determining the economic variables affecting taste in food.\n",
    "- Suggestions for potential restaurateurs regarding the locations of new businesses.\n",
    "\n",
    "## Timetable\n",
    "\n",
    "**Week 1:** Gathering data and integrating APIs. \n",
    "\n",
    "**Week 2:** Cleaning data and conducting preliminary analysis.\n",
    "\n",
    "**Week 3:** Comprehensive data visualization and analysis.\n",
    "\n",
    "**Week 4:** Report assembly and delivery.\n",
    "\n",
    "## Importance & Inspiration for Research\n",
    "\n",
    "Restaurant owners, food fans, and culinary specialists will all gain from this study's insightful analysis of the sociodemographically driven gastronomic tastes of the New York Tri-State region."
   ]
  },
  {
   "cell_type": "code",
   "execution_count": null,
   "id": "d3801a95-73a4-4131-9564-c183e9f92a59",
   "metadata": {},
   "outputs": [],
   "source": []
  },
  {
   "cell_type": "code",
   "execution_count": null,
   "id": "99d388cd-b5fb-4853-b9d0-d1a671e938f2",
   "metadata": {},
   "outputs": [],
   "source": []
  },
  {
   "cell_type": "code",
   "execution_count": null,
   "id": "3036d412-5d83-4af6-94d1-a330048e2451",
   "metadata": {},
   "outputs": [],
   "source": []
  }
 ],
 "metadata": {
  "kernelspec": {
   "display_name": "Python 3 (ipykernel)",
   "language": "python",
   "name": "python3"
  },
  "language_info": {
   "codemirror_mode": {
    "name": "ipython",
    "version": 3
   },
   "file_extension": ".py",
   "mimetype": "text/x-python",
   "name": "python",
   "nbconvert_exporter": "python",
   "pygments_lexer": "ipython3",
   "version": "3.11.7"
  }
 },
 "nbformat": 4,
 "nbformat_minor": 5
}
