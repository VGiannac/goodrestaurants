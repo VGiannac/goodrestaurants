{
 "cells": [
  {
   "cell_type": "code",
   "execution_count": 1,
   "id": "30562164-2640-45e6-b4eb-61cd5116e6b2",
   "metadata": {
    "tags": []
   },
   "outputs": [
    {
     "ename": "ModuleNotFoundError",
     "evalue": "No module named 'yelpapi'",
     "output_type": "error",
     "traceback": [
      "\u001b[0;31m---------------------------------------------------------------------------\u001b[0m",
      "\u001b[0;31mModuleNotFoundError\u001b[0m                       Traceback (most recent call last)",
      "Cell \u001b[0;32mIn[1], line 2\u001b[0m\n\u001b[1;32m      1\u001b[0m \u001b[38;5;66;03m# Import the function from the yelpapi script\u001b[39;00m\n\u001b[0;32m----> 2\u001b[0m \u001b[38;5;28;01mfrom\u001b[39;00m \u001b[38;5;21;01myelpapi\u001b[39;00m \u001b[38;5;28;01mimport\u001b[39;00m get_restaurant_data\n\u001b[1;32m      4\u001b[0m \u001b[38;5;66;03m# Set your location (e.g., 'New York, NY')\u001b[39;00m\n\u001b[1;32m      5\u001b[0m location \u001b[38;5;241m=\u001b[39m \u001b[38;5;124m'\u001b[39m\u001b[38;5;124mNew York, NY\u001b[39m\u001b[38;5;124m'\u001b[39m\n",
      "\u001b[0;31mModuleNotFoundError\u001b[0m: No module named 'yelpapi'"
     ]
    }
   ],
   "source": [
    "# Import the function from the yelpapi script\n",
    "from yelpapi import get_restaurant_data\n",
    "\n",
    "# Set your location (e.g., 'New York, NY')\n",
    "location = 'New York, NY'\n",
    "\n",
    "# Call the function to get restaurant data\n",
    "restaurant_data = get_restaurant_data(location)\n",
    "\n",
    "# Now you can work with the 'restaurant_data' variable in your notebook\n"
   ]
  },
  {
   "cell_type": "code",
   "execution_count": 2,
   "id": "d4a2a8c0-b783-42a9-be51-19148684596e",
   "metadata": {
    "tags": []
   },
   "outputs": [
    {
     "ename": "NameError",
     "evalue": "name 'get_restaurant_data' is not defined",
     "output_type": "error",
     "traceback": [
      "\u001b[0;31m---------------------------------------------------------------------------\u001b[0m",
      "\u001b[0;31mNameError\u001b[0m                                 Traceback (most recent call last)",
      "Cell \u001b[0;32mIn[2], line 4\u001b[0m\n\u001b[1;32m      2\u001b[0m \u001b[38;5;28;01mif\u001b[39;00m \u001b[38;5;18m__name__\u001b[39m \u001b[38;5;241m==\u001b[39m \u001b[38;5;124m'\u001b[39m\u001b[38;5;124m__main__\u001b[39m\u001b[38;5;124m'\u001b[39m:\n\u001b[1;32m      3\u001b[0m     location \u001b[38;5;241m=\u001b[39m \u001b[38;5;124m'\u001b[39m\u001b[38;5;124mNew York, NY\u001b[39m\u001b[38;5;124m'\u001b[39m  \u001b[38;5;66;03m# Example location\u001b[39;00m\n\u001b[0;32m----> 4\u001b[0m     restaurant_data \u001b[38;5;241m=\u001b[39m \u001b[43mget_restaurant_data\u001b[49m(location)\n\u001b[1;32m      5\u001b[0m     \u001b[38;5;28mprint\u001b[39m(json\u001b[38;5;241m.\u001b[39mdumps(restaurant_data, indent\u001b[38;5;241m=\u001b[39m\u001b[38;5;241m2\u001b[39m))\n",
      "\u001b[0;31mNameError\u001b[0m: name 'get_restaurant_data' is not defined"
     ]
    }
   ],
   "source": [
    "# Example usage\n",
    "if __name__ == '__main__':\n",
    "    location = 'New York, NY'  # Example location\n",
    "    restaurant_data = get_restaurant_data(location)\n",
    "    print(json.dumps(restaurant_data, indent=2))"
   ]
  },
  {
   "cell_type": "code",
   "execution_count": null,
   "id": "5e4d0ad6-e347-4178-9b94-67a7e80efc1a",
   "metadata": {},
   "outputs": [],
   "source": []
  }
 ],
 "metadata": {
  "kernelspec": {
   "display_name": "Python 3 (ipykernel)",
   "language": "python",
   "name": "python3"
  },
  "language_info": {
   "codemirror_mode": {
    "name": "ipython",
    "version": 3
   },
   "file_extension": ".py",
   "mimetype": "text/x-python",
   "name": "python",
   "nbconvert_exporter": "python",
   "pygments_lexer": "ipython3",
   "version": "3.11.4"
  }
 },
 "nbformat": 4,
 "nbformat_minor": 5
}
