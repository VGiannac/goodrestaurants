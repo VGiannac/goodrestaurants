{
 "cells": [
  {
   "cell_type": "markdown",
   "metadata": {},
   "source": [
    "בס\"ד\n",
    "\n",
    "ב\"ה\n"
   ]
  },
  {
   "cell_type": "markdown",
   "metadata": {},
   "source": [
    "# Kitchen Dreams "
   ]
  },
  {
   "cell_type": "markdown",
   "metadata": {},
   "source": [
    "This is our official notebook for submission "
   ]
  }
 ],
 "metadata": {
  "language_info": {
   "name": "python"
  }
 },
 "nbformat": 4,
 "nbformat_minor": 2
}
