{
 "cells": [
  {
   "cell_type": "markdown",
   "metadata": {},
   "source": [
    "בס\"ד\n",
    "\n",
    "ב\"ה\n"
   ]
  },
  {
   "cell_type": "markdown",
   "metadata": {},
   "source": [
    "# Kitchen Dreams "
   ]
  },
  {
   "cell_type": "markdown",
   "metadata": {},
   "source": [
    "This is our official notebook for submission "
   ]
  },
  {
   "cell_type": "markdown",
   "metadata": {},
   "source": [
    "Data is limited to the 5 boroughs of New York City because of the complexity of the borders between Queens and Long Island and between The Bronx and Westchester"
   ]
  },
  {
   "cell_type": "code",
   "execution_count": 1,
   "metadata": {},
   "outputs": [],
   "source": [
    "\n",
    "from src.restaurant_analysis.rest_analysis import Scrape\n",
    "a = Scrape('https://www.census.gov/quickfacts/fact/table/richmondcountynewyork,bronxcountynewyork,queenscountynewyork,kingscountynewyork,newyorkcountynewyork/RHI825222#RHI825222')\n",
    "b = Scrape('https://www.census.gov/quickfacts/fact/table/richmondcountynewyork,bronxcountynewyork,queenscountynewyork,kingscountynewyork,newyorkcountynewyork/INC110222#INC110222')"
   ]
  },
  {
   "cell_type": "code",
   "execution_count": 5,
   "metadata": {},
   "outputs": [
    {
     "data": {
      "text/html": [
       "<div>\n",
       "<style scoped>\n",
       "    .dataframe tbody tr th:only-of-type {\n",
       "        vertical-align: middle;\n",
       "    }\n",
       "\n",
       "    .dataframe tbody tr th {\n",
       "        vertical-align: top;\n",
       "    }\n",
       "\n",
       "    .dataframe thead th {\n",
       "        text-align: right;\n",
       "    }\n",
       "</style>\n",
       "<table border=\"1\" class=\"dataframe\">\n",
       "  <thead>\n",
       "    <tr style=\"text-align: right;\">\n",
       "      <th></th>\n",
       "      <th>All Topics Population Age and Sex Race and Hispanic Origin Population Characteristics Housing Families &amp; Living Arrangements Computer and Internet Use Education Health Economy Transportation Income &amp; Poverty Businesses Geography</th>\n",
       "      <th>Richmond County, New York</th>\n",
       "      <th>Bronx County, New York</th>\n",
       "      <th>Queens County, New York</th>\n",
       "      <th>Kings County, New York</th>\n",
       "      <th>New York County, New York</th>\n",
       "    </tr>\n",
       "  </thead>\n",
       "  <tbody>\n",
       "    <tr>\n",
       "      <th>0</th>\n",
       "      <td>White alone, not Hispanic or Latino, percent</td>\n",
       "      <td> 56.6%</td>\n",
       "      <td> 8.7%</td>\n",
       "      <td> 23.9%</td>\n",
       "      <td> 36.7%</td>\n",
       "      <td> 45.5%</td>\n",
       "    </tr>\n",
       "  </tbody>\n",
       "</table>\n",
       "</div>"
      ],
      "text/plain": [
       "  All Topics Population Age and Sex Race and Hispanic Origin Population Characteristics Housing Families & Living Arrangements Computer and Internet Use Education Health Economy Transportation Income & Poverty Businesses Geography  \\\n",
       "0       White alone, not Hispanic or Latino, percent                                                                                                                                                                                     \n",
       "\n",
       "  Richmond County, New York Bronx County, New York Queens County, New York  \\\n",
       "0                   56.6%                 8.7%                 23.9%   \n",
       "\n",
       "  Kings County, New York New York County, New York  \n",
       "0                36.7%                   45.5%  "
      ]
     },
     "execution_count": 5,
     "metadata": {},
     "output_type": "execute_result"
    }
   ],
   "source": [
    "race = a.reader()\n",
    "median_income = b.reader()\n",
    "race[0]\n"
   ]
  },
  {
   "cell_type": "code",
   "execution_count": null,
   "metadata": {},
   "outputs": [],
   "source": []
  },
  {
   "cell_type": "code",
   "execution_count": null,
   "metadata": {},
   "outputs": [],
   "source": []
  }
 ],
 "metadata": {
  "kernelspec": {
   "display_name": "Python 3",
   "language": "python",
   "name": "python3"
  },
  "language_info": {
   "codemirror_mode": {
    "name": "ipython",
    "version": 3
   },
   "file_extension": ".py",
   "mimetype": "text/x-python",
   "name": "python",
   "nbconvert_exporter": "python",
   "pygments_lexer": "ipython3",
   "version": "3.10.13"
  }
 },
 "nbformat": 4,
 "nbformat_minor": 2
}
